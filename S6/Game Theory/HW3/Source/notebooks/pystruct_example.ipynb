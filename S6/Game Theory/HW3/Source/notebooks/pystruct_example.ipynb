{
 "cells": [
  {
   "cell_type": "code",
   "execution_count": 1,
   "metadata": {},
   "outputs": [
    {
     "name": "stdout",
     "output_type": "stream",
     "text": [
      "Collecting cvxopt\n",
      "  Downloading cvxopt-1.1.9-cp36-cp36m-manylinux1_x86_64.whl (16.1MB)\n",
      "\u001b[K    100% |████████████████████████████████| 16.1MB 39kB/s eta 0:00:011   10% |███▌                            | 1.8MB 19.0MB/s eta 0:00:01    43% |██████████████                  | 7.1MB 11.0MB/s eta 0:00:01\n",
      "\u001b[?25hInstalling collected packages: cvxopt\n",
      "Successfully installed cvxopt-1.1.9\n",
      "\u001b[33mYou are using pip version 9.0.1, however version 9.0.3 is available.\n",
      "You should consider upgrading via the 'pip install --upgrade pip' command.\u001b[0m\n"
     ]
    }
   ],
   "source": [
    "!pip install cvxopt"
   ]
  },
  {
   "cell_type": "code",
   "execution_count": 2,
   "metadata": {},
   "outputs": [
    {
     "name": "stdout",
     "output_type": "stream",
     "text": [
      "Collecting pystruct\n",
      "  Downloading pystruct-0.2.4.tar.gz (5.6MB)\n",
      "\u001b[K    100% |████████████████████████████████| 5.6MB 206kB/s eta 0:00:01    62% |████████████████████▏           | 3.5MB 11.0MB/s eta 0:00:01\n",
      "\u001b[?25hCollecting ad3 (from pystruct)\n",
      "  Downloading ad3-2.1-cp36-cp36m-manylinux1_x86_64.whl (2.3MB)\n",
      "\u001b[K    100% |████████████████████████████████| 2.3MB 335kB/s eta 0:00:01\n",
      "\u001b[?25hBuilding wheels for collected packages: pystruct\n",
      "  Running setup.py bdist_wheel for pystruct ... \u001b[?25ldone\n",
      "\u001b[?25h  Stored in directory: /home/nbuser/.cache/pip/wheels/8b/87/bc/6fb10e64e8fd0b722e9e9e2236a939a1e9957d792b7b77486b\n",
      "Successfully built pystruct\n",
      "Installing collected packages: ad3, pystruct\n",
      "Successfully installed ad3-2.1 pystruct-0.2.4\n",
      "\u001b[33mYou are using pip version 9.0.1, however version 9.0.3 is available.\n",
      "You should consider upgrading via the 'pip install --upgrade pip' command.\u001b[0m\n"
     ]
    }
   ],
   "source": [
    "!pip install pystruct"
   ]
  },
  {
   "cell_type": "code",
   "execution_count": 3,
   "metadata": {},
   "outputs": [],
   "source": [
    "import numpy as np\n",
    "import matplotlib.pyplot as plt\n",
    "\n",
    "from scipy.linalg import solve, inv, norm\n",
    "\n",
    "from cvxopt import matrix, solvers\n",
    "\n",
    "from pystruct.inference import inference_dispatch"
   ]
  },
  {
   "cell_type": "markdown",
   "metadata": {},
   "source": [
    "Пусть $y_i \\in \\{0,1,...,K-1\\}$ для $i=1,2$. Найдем решение задачи дискретной оптимизации:\n",
    "\n",
    "$$ \\min_y \\theta_1(y_1) + \\theta_2(y_2) + \\theta_{12}(y_1,y_2)$$"
   ]
  },
  {
   "cell_type": "code",
   "execution_count": 4,
   "metadata": {},
   "outputs": [],
   "source": [
    "K = 5\n",
    "\n",
    "theta_s = np.random.randn(K,)\n",
    "theta_t = np.random.randn(K,)\n",
    "theta_st = np.random.randn(K,K)"
   ]
  },
  {
   "cell_type": "markdown",
   "metadata": {},
   "source": [
    "Наивное решение: полный перебор всех $K^2$ конфигураций переменных $y = (y_1, y_2)$."
   ]
  },
  {
   "cell_type": "code",
   "execution_count": 5,
   "metadata": {},
   "outputs": [
    {
     "name": "stdout",
     "output_type": "stream",
     "text": [
      "Solution: [4, 2]\n"
     ]
    }
   ],
   "source": [
    "f_min = np.inf\n",
    "\n",
    "for i in range(K):\n",
    "    for j in range(K):\n",
    "        f = theta_s[i] + theta_t[j] + theta_st[i,j]\n",
    "        if f < f_min:\n",
    "            f_min = f\n",
    "            y_sol = [i, j]\n",
    "            \n",
    "print('Solution:', y_sol)"
   ]
  },
  {
   "cell_type": "markdown",
   "metadata": {},
   "source": [
    "LP-релаксация:\n",
    "\n",
    "\\begin{gather}\n",
    "\\underset{\\mu}{\\text{min}} & \\theta_1^T\\mu_1 + \\theta_2^T\\mu_2 + \\theta_{12}^T\\mu_{12} \\\\\n",
    "\\text{s.t.} & 1^T\\mu_1 = 1, 1^T\\mu_2 = 1 \\\\\n",
    "& M_{\\text{vert}}\\mu_{12} = \\mu_2, M_{\\text{horz}}\\mu_{12} = \\mu_1 \\\\\n",
    "& \\mu \\geq 0\n",
    "\\end{gather}\n",
    "\n",
    "Этот метод также реализован в [pystruct.inference.inference_lp](https://pystruct.github.io/generated/pystruct.inference.inference_lp.html) (очень медленный)."
   ]
  },
  {
   "cell_type": "code",
   "execution_count": 6,
   "metadata": {},
   "outputs": [],
   "source": [
    "I = np.eye(K)\n",
    "ones = np.ones((1,K))\n",
    "\n",
    "M_vert = np.kron(I, ones)\n",
    "M_horz = np.kron(ones, I)\n",
    "\n",
    "#print(M_vert)\n",
    "#print(M_horz)"
   ]
  },
  {
   "cell_type": "code",
   "execution_count": null,
   "metadata": {},
   "outputs": [],
   "source": []
  },
  {
   "cell_type": "code",
   "execution_count": 7,
   "metadata": {},
   "outputs": [],
   "source": [
    "theta = np.hstack((theta_s, theta_t, theta_st.T.flatten())) # transp !"
   ]
  },
  {
   "cell_type": "code",
   "execution_count": 8,
   "metadata": {},
   "outputs": [
    {
     "name": "stdout",
     "output_type": "stream",
     "text": [
      "Solution: [4, 2]\n"
     ]
    }
   ],
   "source": [
    "c = theta\n",
    "\n",
    "O = np.zeros((K,K))\n",
    "G1 = np.hstack((O, -I, M_vert))\n",
    "G2 = np.hstack((-I, O, M_horz))\n",
    "G3 = np.hstack((ones, 0.*ones, np.zeros((1,K**2))))\n",
    "G4 = np.hstack((0*ones, ones, np.zeros((1,K**2))))\n",
    "G = np.vstack((G1, G2, G3, G4))\n",
    "h = np.vstack((np.zeros((2*K,1)), np.ones((2,1))))   \n",
    "\n",
    "A = -np.eye(K+K+K**2)\n",
    "b = np.zeros((K+K+K**2,1))\n",
    "\n",
    "# objective\n",
    "c = matrix(c)\n",
    "# inequalities\n",
    "A = matrix(A)\n",
    "b = matrix(b)\n",
    "# equalities\n",
    "G = matrix(G)\n",
    "h = matrix(h)\n",
    "\n",
    "\n",
    "sol=solvers.lp(c, A, b, G, h, solver='glpk')\n",
    "#print(sol)\n",
    "xx = np.array(sol['x'])\n",
    "x1 = xx[:K] # mu_1\n",
    "x2 = xx[K:2*K] # mu_2\n",
    "\n",
    "idx1 = np.argmax(x1)\n",
    "idx2 = np.argmax(x2)\n",
    "\n",
    "print('Solution:', [idx1, idx2])"
   ]
  },
  {
   "cell_type": "markdown",
   "metadata": {},
   "source": [
    "Динамическое программирование:"
   ]
  },
  {
   "cell_type": "markdown",
   "metadata": {},
   "source": [
    "Целевая функция соответствует графу, состоящему из 2-х вершин, соединенных ребром.\n",
    "\n",
    "<img src=\"http://apprize.info/data/nosql/nosql.files/image147.jpg\" width=200>\n",
    "\n",
    "Граф является _ациклическим_ (дерево), поэтому точное решение можно найти с помощью динамического программирования (в этом случае LP-релаксация также дает точное решение). Исходная задача сводится к поиску пути минимальной стоимости в графе вида (multistage graph):\n",
    "\n",
    "<img src=\"https://www.researchgate.net/profile/Bartosz_Musznicki/publication/265412778/figure/fig1/AS:392039154896896@1470480826291/A-general-structure-of-a-multi-stage-graph.png\" width=500>\n",
    "\n",
    "https://pystruct.github.io/generated/pystruct.inference.inference_dispatch.html"
   ]
  },
  {
   "cell_type": "code",
   "execution_count": null,
   "metadata": {},
   "outputs": [
    {
     "name": "stdout",
     "output_type": "stream",
     "text": [
      "Solution: [4 2]\n"
     ]
    }
   ],
   "source": [
    "n_nodes = 2\n",
    "n_edges = 1\n",
    "n_states = 3\n",
    "\n",
    "unary_potentials = np.zeros((n_nodes, n_states))\n",
    "pairwise_potentials = np.zeros((n_edges, n_states, n_states))\n",
    "edges = np.zeros((n_edges, 2), dtype=np.int32) # int\n",
    "\n",
    "unary_potentials[0,:] = theta_s\n",
    "unary_potentials[1,:] = theta_t\n",
    "pairwise_potentials[0,:,:] = theta_st\n",
    "edges[0,0] = 0\n",
    "\n",
    "edges[0,1] = 1\n",
    "\n",
    "# Find the maximizing assignment of a pairwise discrete energy function\n",
    "y = inference_dispatch(-1.0*unary_potentials, -1.0*pairwise_potentials, edges, inference_method='max-product')\n",
    "\n",
    "print('Solution:', y)"
   ]
  },
  {
   "cell_type": "code",
   "execution_count": null,
   "metadata": {},
   "outputs": [],
   "source": []
  },
  {
   "cell_type": "code",
   "execution_count": null,
   "metadata": {},
   "outputs": [],
   "source": []
  },
  {
   "cell_type": "code",
   "execution_count": null,
   "metadata": {},
   "outputs": [],
   "source": []
  },
  {
   "cell_type": "code",
   "execution_count": null,
   "metadata": {},
   "outputs": [],
   "source": []
  }
 ],
 "metadata": {
  "kernelspec": {
   "display_name": "Python 3.6",
   "language": "python",
   "name": "python36"
  },
  "language_info": {
   "codemirror_mode": {
    "name": "ipython",
    "version": 3
   },
   "file_extension": ".py",
   "mimetype": "text/x-python",
   "name": "python",
   "nbconvert_exporter": "python",
   "pygments_lexer": "ipython3",
   "version": "3.6.3"
  }
 },
 "nbformat": 4,
 "nbformat_minor": 2
}
